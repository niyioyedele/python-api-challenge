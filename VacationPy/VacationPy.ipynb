{
 "cells": [
  {
   "cell_type": "markdown",
   "metadata": {},
   "source": [
    "# VacationPy\n",
    "----\n",
    "\n",
    "#### Note\n",
    "* Keep an eye on your API usage. Use https://developers.google.com/maps/reporting/gmp-reporting as reference for how to monitor your usage and billing.\n",
    "\n",
    "* Instructions have been included for each segment. You do not have to follow them exactly, but they are included to help you think through the steps."
   ]
  },
  {
   "cell_type": "code",
   "execution_count": 1,
   "metadata": {},
   "outputs": [],
   "source": [
    "# Dependencies and Setup\n",
    "import matplotlib.pyplot as plt\n",
    "import pandas as pd\n",
    "import numpy as np\n",
    "import requests\n",
    "import gmaps\n",
    "import os\n",
    "\n",
    "# Import API key\n",
    "from config import g_key\n"
   ]
  },
  {
   "cell_type": "markdown",
   "metadata": {},
   "source": [
    "### Store Part I results into DataFrame\n",
    "* Load the csv exported in Part I to a DataFrame"
   ]
  },
  {
   "cell_type": "code",
   "execution_count": 2,
   "metadata": {},
   "outputs": [
    {
     "output_type": "execute_result",
     "data": {
      "text/plain": [
       "   Unnamed: 0              City  Longitude  Latitude  Max Temp  Humidity  \\\n",
       "0           0            Hobart   147.3294  -42.8794     89.01        29   \n",
       "1           1              Hilo  -155.0900   19.7297     71.60        78   \n",
       "2           2    Ribeira Grande   -28.7000   38.5167     57.97        70   \n",
       "3           3    Nuevo Progreso   -97.9500   23.1667     46.99        57   \n",
       "4           4           Margate     1.3862   51.3813     44.01        84   \n",
       "5           5         Busselton   115.3333  -33.6500     75.00        46   \n",
       "6           6       Tuktoyaktuk  -133.0374   69.4541    -18.40        76   \n",
       "7           7   Manavālakurichi    77.3000    8.1333     87.80        66   \n",
       "8           8  Kaseda-shirakame   130.3167   31.4167     51.80        50   \n",
       "9           9          Thompson   -97.8558   55.7435    -13.00        84   \n",
       "\n",
       "   Cloudiness  Wind Speed Country        Date  \n",
       "0         100       16.11      AU  1613717991  \n",
       "1           1        4.61      US  1613717992  \n",
       "2         100       31.61      PT  1613717992  \n",
       "3          40        8.99      MX  1613717993  \n",
       "4         100        4.00      GB  1613717993  \n",
       "5           0        3.00      AU  1613717994  \n",
       "6          90        9.22      CA  1613717995  \n",
       "7          20        3.13      IN  1613717995  \n",
       "8          20       17.27      JP  1613717996  \n",
       "9          20        5.39      CA  1613717885  "
      ],
      "text/html": "<div>\n<style scoped>\n    .dataframe tbody tr th:only-of-type {\n        vertical-align: middle;\n    }\n\n    .dataframe tbody tr th {\n        vertical-align: top;\n    }\n\n    .dataframe thead th {\n        text-align: right;\n    }\n</style>\n<table border=\"1\" class=\"dataframe\">\n  <thead>\n    <tr style=\"text-align: right;\">\n      <th></th>\n      <th>Unnamed: 0</th>\n      <th>City</th>\n      <th>Longitude</th>\n      <th>Latitude</th>\n      <th>Max Temp</th>\n      <th>Humidity</th>\n      <th>Cloudiness</th>\n      <th>Wind Speed</th>\n      <th>Country</th>\n      <th>Date</th>\n    </tr>\n  </thead>\n  <tbody>\n    <tr>\n      <th>0</th>\n      <td>0</td>\n      <td>Hobart</td>\n      <td>147.3294</td>\n      <td>-42.8794</td>\n      <td>89.01</td>\n      <td>29</td>\n      <td>100</td>\n      <td>16.11</td>\n      <td>AU</td>\n      <td>1613717991</td>\n    </tr>\n    <tr>\n      <th>1</th>\n      <td>1</td>\n      <td>Hilo</td>\n      <td>-155.0900</td>\n      <td>19.7297</td>\n      <td>71.60</td>\n      <td>78</td>\n      <td>1</td>\n      <td>4.61</td>\n      <td>US</td>\n      <td>1613717992</td>\n    </tr>\n    <tr>\n      <th>2</th>\n      <td>2</td>\n      <td>Ribeira Grande</td>\n      <td>-28.7000</td>\n      <td>38.5167</td>\n      <td>57.97</td>\n      <td>70</td>\n      <td>100</td>\n      <td>31.61</td>\n      <td>PT</td>\n      <td>1613717992</td>\n    </tr>\n    <tr>\n      <th>3</th>\n      <td>3</td>\n      <td>Nuevo Progreso</td>\n      <td>-97.9500</td>\n      <td>23.1667</td>\n      <td>46.99</td>\n      <td>57</td>\n      <td>40</td>\n      <td>8.99</td>\n      <td>MX</td>\n      <td>1613717993</td>\n    </tr>\n    <tr>\n      <th>4</th>\n      <td>4</td>\n      <td>Margate</td>\n      <td>1.3862</td>\n      <td>51.3813</td>\n      <td>44.01</td>\n      <td>84</td>\n      <td>100</td>\n      <td>4.00</td>\n      <td>GB</td>\n      <td>1613717993</td>\n    </tr>\n    <tr>\n      <th>5</th>\n      <td>5</td>\n      <td>Busselton</td>\n      <td>115.3333</td>\n      <td>-33.6500</td>\n      <td>75.00</td>\n      <td>46</td>\n      <td>0</td>\n      <td>3.00</td>\n      <td>AU</td>\n      <td>1613717994</td>\n    </tr>\n    <tr>\n      <th>6</th>\n      <td>6</td>\n      <td>Tuktoyaktuk</td>\n      <td>-133.0374</td>\n      <td>69.4541</td>\n      <td>-18.40</td>\n      <td>76</td>\n      <td>90</td>\n      <td>9.22</td>\n      <td>CA</td>\n      <td>1613717995</td>\n    </tr>\n    <tr>\n      <th>7</th>\n      <td>7</td>\n      <td>Manavālakurichi</td>\n      <td>77.3000</td>\n      <td>8.1333</td>\n      <td>87.80</td>\n      <td>66</td>\n      <td>20</td>\n      <td>3.13</td>\n      <td>IN</td>\n      <td>1613717995</td>\n    </tr>\n    <tr>\n      <th>8</th>\n      <td>8</td>\n      <td>Kaseda-shirakame</td>\n      <td>130.3167</td>\n      <td>31.4167</td>\n      <td>51.80</td>\n      <td>50</td>\n      <td>20</td>\n      <td>17.27</td>\n      <td>JP</td>\n      <td>1613717996</td>\n    </tr>\n    <tr>\n      <th>9</th>\n      <td>9</td>\n      <td>Thompson</td>\n      <td>-97.8558</td>\n      <td>55.7435</td>\n      <td>-13.00</td>\n      <td>84</td>\n      <td>20</td>\n      <td>5.39</td>\n      <td>CA</td>\n      <td>1613717885</td>\n    </tr>\n  </tbody>\n</table>\n</div>"
     },
     "metadata": {},
     "execution_count": 2
    }
   ],
   "source": [
    "cities = '../WeatherPy/cities_weather.csv'\n",
    "cities_df = pd.read_csv(cities)\n",
    "cities_df.dropna(inplace = True) \n",
    "cities_df.head(10)\n",
    "\n",
    "\n",
    "\n",
    "\n",
    "            \n"
   ]
  },
  {
   "cell_type": "markdown",
   "metadata": {},
   "source": [
    "### Humidity Heatmap\n",
    "* Configure gmaps.\n",
    "* Use the Lat and Lng as locations and Humidity as the weight.\n",
    "* Add Heatmap layer to map."
   ]
  },
  {
   "cell_type": "code",
   "execution_count": 3,
   "metadata": {},
   "outputs": [
    {
     "output_type": "display_data",
     "data": {
      "text/plain": "Figure(layout=FigureLayout(height='420px'))",
      "application/vnd.jupyter.widget-view+json": {
       "version_major": 2,
       "version_minor": 0,
       "model_id": "91f5b01bfd984802b5f0d41a02349f9f"
      }
     },
     "metadata": {}
    }
   ],
   "source": [
    "gmaps.configure(api_key=g_key)\n",
    "\n",
    "# fill NaN values and convert to float\n",
    "humidity = cities_df['Humidity'].astype(float)\n",
    "# Store latitude and longitude in locations\n",
    "locations = cities_df[['Latitude','Longitude']]\n",
    "#plot heatmap\n",
    "fig = gmaps.figure()\n",
    "# creat heat layers\n",
    "heat_layer = gmaps.heatmap_layer(locations,weights=humidity,dissipating=False, max_intensity=10,point_radius=1)\n",
    "\n",
    "# Add layer\n",
    "\n",
    "fig.add_layer(heat_layer)\n",
    "\n",
    "# Display figure\n",
    "\n",
    "fig\n",
    "\n",
    "\n"
   ]
  },
  {
   "cell_type": "code",
   "execution_count": 4,
   "metadata": {},
   "outputs": [
    {
     "output_type": "display_data",
     "data": {
      "text/plain": "Figure(layout=FigureLayout(height='420px'))",
      "application/vnd.jupyter.widget-view+json": {
       "version_major": 2,
       "version_minor": 0,
       "model_id": "786f7c967229480a9c8220998f776168"
      }
     },
     "metadata": {}
    }
   ],
   "source": [
    "gmaps.figure()"
   ]
  },
  {
   "cell_type": "code",
   "execution_count": null,
   "metadata": {},
   "outputs": [],
   "source": []
  },
  {
   "cell_type": "markdown",
   "metadata": {},
   "source": [
    "### Create new DataFrame fitting weather criteria\n",
    "* Narrow down the cities to fit weather conditions.\n",
    "* Drop any rows will null values."
   ]
  },
  {
   "cell_type": "code",
   "execution_count": 5,
   "metadata": {},
   "outputs": [
    {
     "output_type": "execute_result",
     "data": {
      "text/plain": [
       "      Unnamed: 0          City  Longitude  Latitude  Max Temp  Humidity  \\\n",
       "5              5     Busselton   115.3333  -33.6500     75.00        46   \n",
       "10            10         Jaqué   -78.1703    7.5175     76.80        83   \n",
       "14            14       Pokhara    83.9833   28.2333     74.95        23   \n",
       "96            96         Morón   -58.6198  -34.6534     75.99        75   \n",
       "230          230         Brits    27.7802  -25.6347     78.01        43   \n",
       "231          231     Abu Dhabi    54.3667   24.4667     77.00        65   \n",
       "277          277    Uttarkāshi    78.4500   30.7333     73.40        33   \n",
       "315          315         Pilar   -35.9567   -9.5972     71.60        94   \n",
       "342          342         Paita   -81.1144   -5.0892     73.15        81   \n",
       "347          347  Kruisfontein    24.7314  -34.0033     73.99        58   \n",
       "377          377         Gamba    10.0000   -2.6500     78.57        86   \n",
       "486          486      Santa Fe   -60.7000  -31.6333     72.00        52   \n",
       "821          821      Shaoguan   113.5833   24.8000     72.93        36   \n",
       "1028        1028       Prieska    22.7474  -29.6641     77.11        19   \n",
       "1045        1045       Iralaya   -83.2333   15.0000     76.73        73   \n",
       "\n",
       "      Cloudiness  Wind Speed Country        Date  \n",
       "5              0        3.00      AU  1613717994  \n",
       "10             0        2.62      PA  1613717997  \n",
       "14             0        5.26      NP  1613717709  \n",
       "96             0        1.01      AR  1613718079  \n",
       "230            0        4.61      ZA  1613718030  \n",
       "231            0        5.75      AE  1613718020  \n",
       "277            0        4.61      IN  1613718192  \n",
       "315            0        5.75      BR  1613718215  \n",
       "342            0        5.57      PE  1613718232  \n",
       "347            0        1.99      ZA  1613718236  \n",
       "377            0        3.69      GA  1613718255  \n",
       "486            0        3.00      AR  1613718033  \n",
       "821            0        0.51      CN  1613718535  \n",
       "1028           0        4.92      ZA  1613718663  \n",
       "1045           0        7.31      HN  1613718674  "
      ],
      "text/html": "<div>\n<style scoped>\n    .dataframe tbody tr th:only-of-type {\n        vertical-align: middle;\n    }\n\n    .dataframe tbody tr th {\n        vertical-align: top;\n    }\n\n    .dataframe thead th {\n        text-align: right;\n    }\n</style>\n<table border=\"1\" class=\"dataframe\">\n  <thead>\n    <tr style=\"text-align: right;\">\n      <th></th>\n      <th>Unnamed: 0</th>\n      <th>City</th>\n      <th>Longitude</th>\n      <th>Latitude</th>\n      <th>Max Temp</th>\n      <th>Humidity</th>\n      <th>Cloudiness</th>\n      <th>Wind Speed</th>\n      <th>Country</th>\n      <th>Date</th>\n    </tr>\n  </thead>\n  <tbody>\n    <tr>\n      <th>5</th>\n      <td>5</td>\n      <td>Busselton</td>\n      <td>115.3333</td>\n      <td>-33.6500</td>\n      <td>75.00</td>\n      <td>46</td>\n      <td>0</td>\n      <td>3.00</td>\n      <td>AU</td>\n      <td>1613717994</td>\n    </tr>\n    <tr>\n      <th>10</th>\n      <td>10</td>\n      <td>Jaqué</td>\n      <td>-78.1703</td>\n      <td>7.5175</td>\n      <td>76.80</td>\n      <td>83</td>\n      <td>0</td>\n      <td>2.62</td>\n      <td>PA</td>\n      <td>1613717997</td>\n    </tr>\n    <tr>\n      <th>14</th>\n      <td>14</td>\n      <td>Pokhara</td>\n      <td>83.9833</td>\n      <td>28.2333</td>\n      <td>74.95</td>\n      <td>23</td>\n      <td>0</td>\n      <td>5.26</td>\n      <td>NP</td>\n      <td>1613717709</td>\n    </tr>\n    <tr>\n      <th>96</th>\n      <td>96</td>\n      <td>Morón</td>\n      <td>-58.6198</td>\n      <td>-34.6534</td>\n      <td>75.99</td>\n      <td>75</td>\n      <td>0</td>\n      <td>1.01</td>\n      <td>AR</td>\n      <td>1613718079</td>\n    </tr>\n    <tr>\n      <th>230</th>\n      <td>230</td>\n      <td>Brits</td>\n      <td>27.7802</td>\n      <td>-25.6347</td>\n      <td>78.01</td>\n      <td>43</td>\n      <td>0</td>\n      <td>4.61</td>\n      <td>ZA</td>\n      <td>1613718030</td>\n    </tr>\n    <tr>\n      <th>231</th>\n      <td>231</td>\n      <td>Abu Dhabi</td>\n      <td>54.3667</td>\n      <td>24.4667</td>\n      <td>77.00</td>\n      <td>65</td>\n      <td>0</td>\n      <td>5.75</td>\n      <td>AE</td>\n      <td>1613718020</td>\n    </tr>\n    <tr>\n      <th>277</th>\n      <td>277</td>\n      <td>Uttarkāshi</td>\n      <td>78.4500</td>\n      <td>30.7333</td>\n      <td>73.40</td>\n      <td>33</td>\n      <td>0</td>\n      <td>4.61</td>\n      <td>IN</td>\n      <td>1613718192</td>\n    </tr>\n    <tr>\n      <th>315</th>\n      <td>315</td>\n      <td>Pilar</td>\n      <td>-35.9567</td>\n      <td>-9.5972</td>\n      <td>71.60</td>\n      <td>94</td>\n      <td>0</td>\n      <td>5.75</td>\n      <td>BR</td>\n      <td>1613718215</td>\n    </tr>\n    <tr>\n      <th>342</th>\n      <td>342</td>\n      <td>Paita</td>\n      <td>-81.1144</td>\n      <td>-5.0892</td>\n      <td>73.15</td>\n      <td>81</td>\n      <td>0</td>\n      <td>5.57</td>\n      <td>PE</td>\n      <td>1613718232</td>\n    </tr>\n    <tr>\n      <th>347</th>\n      <td>347</td>\n      <td>Kruisfontein</td>\n      <td>24.7314</td>\n      <td>-34.0033</td>\n      <td>73.99</td>\n      <td>58</td>\n      <td>0</td>\n      <td>1.99</td>\n      <td>ZA</td>\n      <td>1613718236</td>\n    </tr>\n    <tr>\n      <th>377</th>\n      <td>377</td>\n      <td>Gamba</td>\n      <td>10.0000</td>\n      <td>-2.6500</td>\n      <td>78.57</td>\n      <td>86</td>\n      <td>0</td>\n      <td>3.69</td>\n      <td>GA</td>\n      <td>1613718255</td>\n    </tr>\n    <tr>\n      <th>486</th>\n      <td>486</td>\n      <td>Santa Fe</td>\n      <td>-60.7000</td>\n      <td>-31.6333</td>\n      <td>72.00</td>\n      <td>52</td>\n      <td>0</td>\n      <td>3.00</td>\n      <td>AR</td>\n      <td>1613718033</td>\n    </tr>\n    <tr>\n      <th>821</th>\n      <td>821</td>\n      <td>Shaoguan</td>\n      <td>113.5833</td>\n      <td>24.8000</td>\n      <td>72.93</td>\n      <td>36</td>\n      <td>0</td>\n      <td>0.51</td>\n      <td>CN</td>\n      <td>1613718535</td>\n    </tr>\n    <tr>\n      <th>1028</th>\n      <td>1028</td>\n      <td>Prieska</td>\n      <td>22.7474</td>\n      <td>-29.6641</td>\n      <td>77.11</td>\n      <td>19</td>\n      <td>0</td>\n      <td>4.92</td>\n      <td>ZA</td>\n      <td>1613718663</td>\n    </tr>\n    <tr>\n      <th>1045</th>\n      <td>1045</td>\n      <td>Iralaya</td>\n      <td>-83.2333</td>\n      <td>15.0000</td>\n      <td>76.73</td>\n      <td>73</td>\n      <td>0</td>\n      <td>7.31</td>\n      <td>HN</td>\n      <td>1613718674</td>\n    </tr>\n  </tbody>\n</table>\n</div>"
     },
     "metadata": {},
     "execution_count": 5
    }
   ],
   "source": [
    "hotel_df= cities_df.loc[(cities_df['Max Temp'] < 80 ) & (cities_df['Max Temp'] > 70) & (cities_df['Cloudiness']== 0) & (cities_df['Wind Speed'] < 10)]\\\n",
    "    .dropna()\n",
    "\n",
    "\n",
    "hotel_df = hotel_df.drop_duplicates('City',keep='first')\n",
    "hotel_df\n"
   ]
  },
  {
   "cell_type": "markdown",
   "metadata": {},
   "source": [
    "### Hotel Map\n",
    "* Store into variable named `hotel_df`.\n",
    "* Add a \"Hotel Name\" column to the DataFrame.\n",
    "* Set parameters to search for hotels with 5000 meters.\n",
    "* Hit the Google Places API for each city's coordinates.\n",
    "* Store the first Hotel result into the DataFrame.\n",
    "* Plot markers on top of the heatmap."
   ]
  },
  {
   "cell_type": "code",
   "execution_count": 6,
   "metadata": {},
   "outputs": [
    {
     "output_type": "execute_result",
     "data": {
      "text/plain": [
       "      Unnamed: 0          City  Longitude  Latitude  Max Temp  Humidity  \\\n",
       "5              5     Busselton   115.3333  -33.6500     75.00        46   \n",
       "10            10         Jaqué   -78.1703    7.5175     76.80        83   \n",
       "14            14       Pokhara    83.9833   28.2333     74.95        23   \n",
       "96            96         Morón   -58.6198  -34.6534     75.99        75   \n",
       "230          230         Brits    27.7802  -25.6347     78.01        43   \n",
       "231          231     Abu Dhabi    54.3667   24.4667     77.00        65   \n",
       "277          277    Uttarkāshi    78.4500   30.7333     73.40        33   \n",
       "315          315         Pilar   -35.9567   -9.5972     71.60        94   \n",
       "342          342         Paita   -81.1144   -5.0892     73.15        81   \n",
       "347          347  Kruisfontein    24.7314  -34.0033     73.99        58   \n",
       "377          377         Gamba    10.0000   -2.6500     78.57        86   \n",
       "486          486      Santa Fe   -60.7000  -31.6333     72.00        52   \n",
       "821          821      Shaoguan   113.5833   24.8000     72.93        36   \n",
       "1028        1028       Prieska    22.7474  -29.6641     77.11        19   \n",
       "1045        1045       Iralaya   -83.2333   15.0000     76.73        73   \n",
       "\n",
       "      Cloudiness  Wind Speed Country        Date Hotel Name  \n",
       "5              0        3.00      AU  1613717994             \n",
       "10             0        2.62      PA  1613717997             \n",
       "14             0        5.26      NP  1613717709             \n",
       "96             0        1.01      AR  1613718079             \n",
       "230            0        4.61      ZA  1613718030             \n",
       "231            0        5.75      AE  1613718020             \n",
       "277            0        4.61      IN  1613718192             \n",
       "315            0        5.75      BR  1613718215             \n",
       "342            0        5.57      PE  1613718232             \n",
       "347            0        1.99      ZA  1613718236             \n",
       "377            0        3.69      GA  1613718255             \n",
       "486            0        3.00      AR  1613718033             \n",
       "821            0        0.51      CN  1613718535             \n",
       "1028           0        4.92      ZA  1613718663             \n",
       "1045           0        7.31      HN  1613718674             "
      ],
      "text/html": "<div>\n<style scoped>\n    .dataframe tbody tr th:only-of-type {\n        vertical-align: middle;\n    }\n\n    .dataframe tbody tr th {\n        vertical-align: top;\n    }\n\n    .dataframe thead th {\n        text-align: right;\n    }\n</style>\n<table border=\"1\" class=\"dataframe\">\n  <thead>\n    <tr style=\"text-align: right;\">\n      <th></th>\n      <th>Unnamed: 0</th>\n      <th>City</th>\n      <th>Longitude</th>\n      <th>Latitude</th>\n      <th>Max Temp</th>\n      <th>Humidity</th>\n      <th>Cloudiness</th>\n      <th>Wind Speed</th>\n      <th>Country</th>\n      <th>Date</th>\n      <th>Hotel Name</th>\n    </tr>\n  </thead>\n  <tbody>\n    <tr>\n      <th>5</th>\n      <td>5</td>\n      <td>Busselton</td>\n      <td>115.3333</td>\n      <td>-33.6500</td>\n      <td>75.00</td>\n      <td>46</td>\n      <td>0</td>\n      <td>3.00</td>\n      <td>AU</td>\n      <td>1613717994</td>\n      <td></td>\n    </tr>\n    <tr>\n      <th>10</th>\n      <td>10</td>\n      <td>Jaqué</td>\n      <td>-78.1703</td>\n      <td>7.5175</td>\n      <td>76.80</td>\n      <td>83</td>\n      <td>0</td>\n      <td>2.62</td>\n      <td>PA</td>\n      <td>1613717997</td>\n      <td></td>\n    </tr>\n    <tr>\n      <th>14</th>\n      <td>14</td>\n      <td>Pokhara</td>\n      <td>83.9833</td>\n      <td>28.2333</td>\n      <td>74.95</td>\n      <td>23</td>\n      <td>0</td>\n      <td>5.26</td>\n      <td>NP</td>\n      <td>1613717709</td>\n      <td></td>\n    </tr>\n    <tr>\n      <th>96</th>\n      <td>96</td>\n      <td>Morón</td>\n      <td>-58.6198</td>\n      <td>-34.6534</td>\n      <td>75.99</td>\n      <td>75</td>\n      <td>0</td>\n      <td>1.01</td>\n      <td>AR</td>\n      <td>1613718079</td>\n      <td></td>\n    </tr>\n    <tr>\n      <th>230</th>\n      <td>230</td>\n      <td>Brits</td>\n      <td>27.7802</td>\n      <td>-25.6347</td>\n      <td>78.01</td>\n      <td>43</td>\n      <td>0</td>\n      <td>4.61</td>\n      <td>ZA</td>\n      <td>1613718030</td>\n      <td></td>\n    </tr>\n    <tr>\n      <th>231</th>\n      <td>231</td>\n      <td>Abu Dhabi</td>\n      <td>54.3667</td>\n      <td>24.4667</td>\n      <td>77.00</td>\n      <td>65</td>\n      <td>0</td>\n      <td>5.75</td>\n      <td>AE</td>\n      <td>1613718020</td>\n      <td></td>\n    </tr>\n    <tr>\n      <th>277</th>\n      <td>277</td>\n      <td>Uttarkāshi</td>\n      <td>78.4500</td>\n      <td>30.7333</td>\n      <td>73.40</td>\n      <td>33</td>\n      <td>0</td>\n      <td>4.61</td>\n      <td>IN</td>\n      <td>1613718192</td>\n      <td></td>\n    </tr>\n    <tr>\n      <th>315</th>\n      <td>315</td>\n      <td>Pilar</td>\n      <td>-35.9567</td>\n      <td>-9.5972</td>\n      <td>71.60</td>\n      <td>94</td>\n      <td>0</td>\n      <td>5.75</td>\n      <td>BR</td>\n      <td>1613718215</td>\n      <td></td>\n    </tr>\n    <tr>\n      <th>342</th>\n      <td>342</td>\n      <td>Paita</td>\n      <td>-81.1144</td>\n      <td>-5.0892</td>\n      <td>73.15</td>\n      <td>81</td>\n      <td>0</td>\n      <td>5.57</td>\n      <td>PE</td>\n      <td>1613718232</td>\n      <td></td>\n    </tr>\n    <tr>\n      <th>347</th>\n      <td>347</td>\n      <td>Kruisfontein</td>\n      <td>24.7314</td>\n      <td>-34.0033</td>\n      <td>73.99</td>\n      <td>58</td>\n      <td>0</td>\n      <td>1.99</td>\n      <td>ZA</td>\n      <td>1613718236</td>\n      <td></td>\n    </tr>\n    <tr>\n      <th>377</th>\n      <td>377</td>\n      <td>Gamba</td>\n      <td>10.0000</td>\n      <td>-2.6500</td>\n      <td>78.57</td>\n      <td>86</td>\n      <td>0</td>\n      <td>3.69</td>\n      <td>GA</td>\n      <td>1613718255</td>\n      <td></td>\n    </tr>\n    <tr>\n      <th>486</th>\n      <td>486</td>\n      <td>Santa Fe</td>\n      <td>-60.7000</td>\n      <td>-31.6333</td>\n      <td>72.00</td>\n      <td>52</td>\n      <td>0</td>\n      <td>3.00</td>\n      <td>AR</td>\n      <td>1613718033</td>\n      <td></td>\n    </tr>\n    <tr>\n      <th>821</th>\n      <td>821</td>\n      <td>Shaoguan</td>\n      <td>113.5833</td>\n      <td>24.8000</td>\n      <td>72.93</td>\n      <td>36</td>\n      <td>0</td>\n      <td>0.51</td>\n      <td>CN</td>\n      <td>1613718535</td>\n      <td></td>\n    </tr>\n    <tr>\n      <th>1028</th>\n      <td>1028</td>\n      <td>Prieska</td>\n      <td>22.7474</td>\n      <td>-29.6641</td>\n      <td>77.11</td>\n      <td>19</td>\n      <td>0</td>\n      <td>4.92</td>\n      <td>ZA</td>\n      <td>1613718663</td>\n      <td></td>\n    </tr>\n    <tr>\n      <th>1045</th>\n      <td>1045</td>\n      <td>Iralaya</td>\n      <td>-83.2333</td>\n      <td>15.0000</td>\n      <td>76.73</td>\n      <td>73</td>\n      <td>0</td>\n      <td>7.31</td>\n      <td>HN</td>\n      <td>1613718674</td>\n      <td></td>\n    </tr>\n  </tbody>\n</table>\n</div>"
     },
     "metadata": {},
     "execution_count": 6
    }
   ],
   "source": [
    "hotel_df['Hotel Name'] = ''\n",
    "hotel_df"
   ]
  },
  {
   "cell_type": "code",
   "execution_count": 7,
   "metadata": {},
   "outputs": [
    {
     "output_type": "stream",
     "name": "stdout",
     "text": [
      "data not available...skipped\n"
     ]
    },
    {
     "output_type": "execute_result",
     "data": {
      "text/plain": [
       "      Unnamed: 0          City  Longitude  Latitude  Max Temp  Humidity  \\\n",
       "5              5     Busselton   115.3333  -33.6500     75.00        46   \n",
       "10            10         Jaqué   -78.1703    7.5175     76.80        83   \n",
       "14            14       Pokhara    83.9833   28.2333     74.95        23   \n",
       "96            96         Morón   -58.6198  -34.6534     75.99        75   \n",
       "230          230         Brits    27.7802  -25.6347     78.01        43   \n",
       "231          231     Abu Dhabi    54.3667   24.4667     77.00        65   \n",
       "277          277    Uttarkāshi    78.4500   30.7333     73.40        33   \n",
       "315          315         Pilar   -35.9567   -9.5972     71.60        94   \n",
       "342          342         Paita   -81.1144   -5.0892     73.15        81   \n",
       "347          347  Kruisfontein    24.7314  -34.0033     73.99        58   \n",
       "377          377         Gamba    10.0000   -2.6500     78.57        86   \n",
       "486          486      Santa Fe   -60.7000  -31.6333     72.00        52   \n",
       "821          821      Shaoguan   113.5833   24.8000     72.93        36   \n",
       "1028        1028       Prieska    22.7474  -29.6641     77.11        19   \n",
       "1045        1045       Iralaya   -83.2333   15.0000     76.73        73   \n",
       "\n",
       "      Cloudiness  Wind Speed Country        Date  \\\n",
       "5              0        3.00      AU  1613717994   \n",
       "10             0        2.62      PA  1613717997   \n",
       "14             0        5.26      NP  1613717709   \n",
       "96             0        1.01      AR  1613718079   \n",
       "230            0        4.61      ZA  1613718030   \n",
       "231            0        5.75      AE  1613718020   \n",
       "277            0        4.61      IN  1613718192   \n",
       "315            0        5.75      BR  1613718215   \n",
       "342            0        5.57      PE  1613718232   \n",
       "347            0        1.99      ZA  1613718236   \n",
       "377            0        3.69      GA  1613718255   \n",
       "486            0        3.00      AR  1613718033   \n",
       "821            0        0.51      CN  1613718535   \n",
       "1028           0        4.92      ZA  1613718663   \n",
       "1045           0        7.31      HN  1613718674   \n",
       "\n",
       "                           Hotel Name  \n",
       "5             Observatory Guest House  \n",
       "10                     Imbu Bua Lodge  \n",
       "14                    Butterfly Lodge  \n",
       "96                        Hotel Morón  \n",
       "230                       By Die Vlei  \n",
       "231     Ramee Garden Hotel Apartments  \n",
       "277                       Anand Ganga  \n",
       "315   Pousada e churrascaria Manguaba  \n",
       "342            Hotel Náutico de Paita  \n",
       "347           Oyster Bay House Rental  \n",
       "377                                    \n",
       "486                Conquistador Hotel  \n",
       "821                  Shangcheng Hotel  \n",
       "1028                Avenue GuestHouse  \n",
       "1045          Iglesia morava renovada  "
      ],
      "text/html": "<div>\n<style scoped>\n    .dataframe tbody tr th:only-of-type {\n        vertical-align: middle;\n    }\n\n    .dataframe tbody tr th {\n        vertical-align: top;\n    }\n\n    .dataframe thead th {\n        text-align: right;\n    }\n</style>\n<table border=\"1\" class=\"dataframe\">\n  <thead>\n    <tr style=\"text-align: right;\">\n      <th></th>\n      <th>Unnamed: 0</th>\n      <th>City</th>\n      <th>Longitude</th>\n      <th>Latitude</th>\n      <th>Max Temp</th>\n      <th>Humidity</th>\n      <th>Cloudiness</th>\n      <th>Wind Speed</th>\n      <th>Country</th>\n      <th>Date</th>\n      <th>Hotel Name</th>\n    </tr>\n  </thead>\n  <tbody>\n    <tr>\n      <th>5</th>\n      <td>5</td>\n      <td>Busselton</td>\n      <td>115.3333</td>\n      <td>-33.6500</td>\n      <td>75.00</td>\n      <td>46</td>\n      <td>0</td>\n      <td>3.00</td>\n      <td>AU</td>\n      <td>1613717994</td>\n      <td>Observatory Guest House</td>\n    </tr>\n    <tr>\n      <th>10</th>\n      <td>10</td>\n      <td>Jaqué</td>\n      <td>-78.1703</td>\n      <td>7.5175</td>\n      <td>76.80</td>\n      <td>83</td>\n      <td>0</td>\n      <td>2.62</td>\n      <td>PA</td>\n      <td>1613717997</td>\n      <td>Imbu Bua Lodge</td>\n    </tr>\n    <tr>\n      <th>14</th>\n      <td>14</td>\n      <td>Pokhara</td>\n      <td>83.9833</td>\n      <td>28.2333</td>\n      <td>74.95</td>\n      <td>23</td>\n      <td>0</td>\n      <td>5.26</td>\n      <td>NP</td>\n      <td>1613717709</td>\n      <td>Butterfly Lodge</td>\n    </tr>\n    <tr>\n      <th>96</th>\n      <td>96</td>\n      <td>Morón</td>\n      <td>-58.6198</td>\n      <td>-34.6534</td>\n      <td>75.99</td>\n      <td>75</td>\n      <td>0</td>\n      <td>1.01</td>\n      <td>AR</td>\n      <td>1613718079</td>\n      <td>Hotel Morón</td>\n    </tr>\n    <tr>\n      <th>230</th>\n      <td>230</td>\n      <td>Brits</td>\n      <td>27.7802</td>\n      <td>-25.6347</td>\n      <td>78.01</td>\n      <td>43</td>\n      <td>0</td>\n      <td>4.61</td>\n      <td>ZA</td>\n      <td>1613718030</td>\n      <td>By Die Vlei</td>\n    </tr>\n    <tr>\n      <th>231</th>\n      <td>231</td>\n      <td>Abu Dhabi</td>\n      <td>54.3667</td>\n      <td>24.4667</td>\n      <td>77.00</td>\n      <td>65</td>\n      <td>0</td>\n      <td>5.75</td>\n      <td>AE</td>\n      <td>1613718020</td>\n      <td>Ramee Garden Hotel Apartments</td>\n    </tr>\n    <tr>\n      <th>277</th>\n      <td>277</td>\n      <td>Uttarkāshi</td>\n      <td>78.4500</td>\n      <td>30.7333</td>\n      <td>73.40</td>\n      <td>33</td>\n      <td>0</td>\n      <td>4.61</td>\n      <td>IN</td>\n      <td>1613718192</td>\n      <td>Anand Ganga</td>\n    </tr>\n    <tr>\n      <th>315</th>\n      <td>315</td>\n      <td>Pilar</td>\n      <td>-35.9567</td>\n      <td>-9.5972</td>\n      <td>71.60</td>\n      <td>94</td>\n      <td>0</td>\n      <td>5.75</td>\n      <td>BR</td>\n      <td>1613718215</td>\n      <td>Pousada e churrascaria Manguaba</td>\n    </tr>\n    <tr>\n      <th>342</th>\n      <td>342</td>\n      <td>Paita</td>\n      <td>-81.1144</td>\n      <td>-5.0892</td>\n      <td>73.15</td>\n      <td>81</td>\n      <td>0</td>\n      <td>5.57</td>\n      <td>PE</td>\n      <td>1613718232</td>\n      <td>Hotel Náutico de Paita</td>\n    </tr>\n    <tr>\n      <th>347</th>\n      <td>347</td>\n      <td>Kruisfontein</td>\n      <td>24.7314</td>\n      <td>-34.0033</td>\n      <td>73.99</td>\n      <td>58</td>\n      <td>0</td>\n      <td>1.99</td>\n      <td>ZA</td>\n      <td>1613718236</td>\n      <td>Oyster Bay House Rental</td>\n    </tr>\n    <tr>\n      <th>377</th>\n      <td>377</td>\n      <td>Gamba</td>\n      <td>10.0000</td>\n      <td>-2.6500</td>\n      <td>78.57</td>\n      <td>86</td>\n      <td>0</td>\n      <td>3.69</td>\n      <td>GA</td>\n      <td>1613718255</td>\n      <td></td>\n    </tr>\n    <tr>\n      <th>486</th>\n      <td>486</td>\n      <td>Santa Fe</td>\n      <td>-60.7000</td>\n      <td>-31.6333</td>\n      <td>72.00</td>\n      <td>52</td>\n      <td>0</td>\n      <td>3.00</td>\n      <td>AR</td>\n      <td>1613718033</td>\n      <td>Conquistador Hotel</td>\n    </tr>\n    <tr>\n      <th>821</th>\n      <td>821</td>\n      <td>Shaoguan</td>\n      <td>113.5833</td>\n      <td>24.8000</td>\n      <td>72.93</td>\n      <td>36</td>\n      <td>0</td>\n      <td>0.51</td>\n      <td>CN</td>\n      <td>1613718535</td>\n      <td>Shangcheng Hotel</td>\n    </tr>\n    <tr>\n      <th>1028</th>\n      <td>1028</td>\n      <td>Prieska</td>\n      <td>22.7474</td>\n      <td>-29.6641</td>\n      <td>77.11</td>\n      <td>19</td>\n      <td>0</td>\n      <td>4.92</td>\n      <td>ZA</td>\n      <td>1613718663</td>\n      <td>Avenue GuestHouse</td>\n    </tr>\n    <tr>\n      <th>1045</th>\n      <td>1045</td>\n      <td>Iralaya</td>\n      <td>-83.2333</td>\n      <td>15.0000</td>\n      <td>76.73</td>\n      <td>73</td>\n      <td>0</td>\n      <td>7.31</td>\n      <td>HN</td>\n      <td>1613718674</td>\n      <td>Iglesia morava renovada</td>\n    </tr>\n  </tbody>\n</table>\n</div>"
     },
     "metadata": {},
     "execution_count": 7
    }
   ],
   "source": [
    "params = {\n",
    "    'radius':5000,\n",
    "    'types':'lodging',\n",
    "    'key':g_key\n",
    "}\n",
    "\n",
    "for index, row in hotel_df.iterrows():\n",
    "    Lat = row['Latitude']\n",
    "    Lng = row['Longitude']\n",
    "    params['location'] =f'{Lat},{Lng}'\n",
    "\n",
    "    url = \"https://maps.googleapis.com/maps/api/place/nearbysearch/json\"\n",
    "    hotels = requests.get(url, params=params)\n",
    "    hotels = hotels.json()\n",
    "\n",
    "\n",
    "    try:\n",
    "        hotel_df.loc[index, 'Hotel Name'] = hotels['results'][0]['name']\n",
    "    except:\n",
    "        print('data not available...skipped')\n",
    "hotel_df"
   ]
  },
  {
   "cell_type": "code",
   "execution_count": 8,
   "metadata": {},
   "outputs": [],
   "source": [
    "# NOTE: Do not change any of the code in this cell\n",
    "\n",
    "# Using the template add the hotel marks to the heatmap\n",
    "info_box_template = \"\"\"\n",
    "<dl>\n",
    "<dt>Name</dt><dd>{Hotel Name}</dd>\n",
    "<dt>City</dt><dd>{City}</dd>\n",
    "<dt>Country</dt><dd>{Country}</dd>\n",
    "</dl>\n",
    "\"\"\"\n",
    "# Store the DataFrame Row\n",
    "# NOTE: be sure to update with your DataFrame name\n",
    "hotel_info = [info_box_template.format(**row) for index, row in hotel_df.iterrows()]\n",
    "locations = hotel_df[[\"Latitude\", \"Longitude\"]]"
   ]
  },
  {
   "cell_type": "code",
   "execution_count": 9,
   "metadata": {},
   "outputs": [
    {
     "output_type": "display_data",
     "data": {
      "text/plain": "Figure(layout=FigureLayout(height='420px'))",
      "application/vnd.jupyter.widget-view+json": {
       "version_major": 2,
       "version_minor": 0,
       "model_id": "91f5b01bfd984802b5f0d41a02349f9f"
      }
     },
     "metadata": {}
    }
   ],
   "source": [
    "# Add marker layer ontop of heat map\n",
    "marker_layer = gmaps.marker_layer(locations, info_box_content=hotel_info)\n",
    "fig.add_layer(marker_layer)\n",
    "\n",
    "fig\n",
    "\n",
    "\n",
    "# Display figure\n"
   ]
  },
  {
   "cell_type": "code",
   "execution_count": null,
   "metadata": {},
   "outputs": [],
   "source": []
  }
 ],
 "metadata": {
  "kernelspec": {
   "display_name": "Python 3",
   "language": "python",
   "name": "python3"
  },
  "language_info": {
   "codemirror_mode": {
    "name": "ipython",
    "version": 3
   },
   "file_extension": ".py",
   "mimetype": "text/x-python",
   "name": "python",
   "nbconvert_exporter": "python",
   "pygments_lexer": "ipython3",
   "version": "3.6.10-final"
  },
  "latex_envs": {
   "LaTeX_envs_menu_present": true,
   "autoclose": false,
   "autocomplete": true,
   "bibliofile": "biblio.bib",
   "cite_by": "apalike",
   "current_citInitial": 1,
   "eqLabelWithNumbers": true,
   "eqNumInitial": 1,
   "hotkeys": {
    "equation": "Ctrl-E",
    "itemize": "Ctrl-I"
   },
   "labels_anchors": false,
   "latex_user_defs": false,
   "report_style_numbering": false,
   "user_envs_cfg": false
  }
 },
 "nbformat": 4,
 "nbformat_minor": 4
}